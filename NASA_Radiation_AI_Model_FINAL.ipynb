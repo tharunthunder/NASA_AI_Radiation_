{
 "cells": [
  {
   "cell_type": "code",
   "execution_count": 7,
   "metadata": {},
   "outputs": [],
   "source": [
    "import firebase_admin\n",
    "from firebase_admin import firestore\n",
    "from firebase_admin import credentials\n",
    "import csv\n",
    "\n",
    "import pandas as pd\n",
    "import openai\n",
    "import os\n",
    "\n",
    "from langchain_experimental.agents import create_pandas_dataframe_agent\n",
    "from langchain.document_loaders import TextLoader\n",
    "from langchain.document_loaders import CSVLoader\n",
    "from langchain_openai import OpenAI\n",
    "from langchain.chains.question_answering import load_qa_chain\n",
    "from langchain.text_splitter import RecursiveCharacterTextSplitter\n",
    "from langchain.vectorstores import Chroma\n",
    "from langchain.embeddings import OpenAIEmbeddings\n",
    "from langchain.chains import RetrievalQA\n",
    "from langchain.chat_models import ChatOpenAI\n",
    "from langchain.vectorstores.faiss import FAISS\n",
    "from langchain_experimental.agents import create_csv_agent\n",
    "from langchain.agents.agent_types import AgentType\n"
   ]
  },
  {
   "cell_type": "code",
   "execution_count": 8,
   "metadata": {},
   "outputs": [
    {
     "name": "stderr",
     "output_type": "stream",
     "text": [
      "/Users/tharunsevvel/opt/anaconda3/envs/langchain_env/lib/python3.9/site-packages/langchain_experimental/agents/agent_toolkits/pandas/base.py:249: UserWarning: Received additional kwargs {'handle_parsing_errors': True} which are no longer supported.\n",
      "  warnings.warn(\n"
     ]
    },
    {
     "name": "stdout",
     "output_type": "stream",
     "text": [
      "\n",
      "\n",
      "\u001b[1m> Entering new AgentExecutor chain...\u001b[0m\n",
      "\u001b[32;1m\u001b[1;3m\n",
      "Invoking: `python_repl_ast` with `{'query': \"import pandas as pd\\n\\ndf1 = pd.DataFrame({\\n    'Pre-Flight-Data': [1, 2, 3, 4, 5],\\n    'Name': ['John', 'Bob', 'Dave', 'Tim', 'Hans'],\\n    'Gender': ['Male', 'Male', 'Male', 'Male', 'Male'],\\n    'Age': [28, 26, 24, 22, 22],\\n    'Sample DNA Strand': ['GCATATGCAT', 'CATGATGTAT', 'ACTAGCTGTA', 'TACGTTACGA', 'ATGCGCTACG'],\\n    'Eyesight': ['Proficient', 'Proficient', 'Proficient', 'Proficient', 'Proficient'],\\n    'Bone Density': [1.1, 1.2, 1.0, 1.3, 1.1],\\n    'Telomeres Size': [5123, 6573, 7654, 5463, 8976],\\n    'Weight in Pounds': [167, 154, 156, 159, 168],\\n    'Height in Inches': [66, 68, 72, 70, 69],\\n    'Metablomics': ['Low', 'Low', 'Low', 'Low', 'Low'],\\n    'Cognitive Peformance': ['Normal', 'Normal', 'Normal', 'Normal', 'Normal']\\n})\\n\\ndf2 = pd.DataFrame({\\n    'Pre-Flight-Data': [1, 2, 3, 4, 5],\\n    'Name': ['John', 'Bob', 'Dave', 'Tim', 'Hans'],\\n    'Gender': ['Male', 'Male', 'Male', 'Male', 'Male'],\\n    'Age': [28, 26, 24, 22, 22],\\n    'Sample DNA Strand': ['GCATATGCCT', 'CATGATGTAT', 'ACTAGCTGTA', 'TACGTTACGA', 'ATGCGCTACG'],\\n    'Eyesight': ['Proficient', 'Poor', 'Proficient', 'Proficient', 'Proficient'],\\n    'Bone Density': [1.1, 1.2, 0.9, 1.3, 1.1],\\n    'Telomeres Size': [5123, 6573, 7654, 6789, 8976],\\n    'Weight in Pounds': [167, 154, 156, 159, 154],\\n    'Height in Inches': [66, 68, 72, 70, 69],\\n    'Metablomics': ['Low', 'Low', 'Low', 'Low', 'Low'],\\n    'Cognitive Peformance': ['Normal', 'Normal', 'Normal', 'Normal', 'Normal']\\n})\\n\\nexcessive_radiation = df1[df1.ne(df2).any(axis=1)]\\nexcessive_radiation\"}`\n",
      "\n",
      "\n",
      "\u001b[0m\u001b[36;1m\u001b[1;3m   Pre-Flight-Data  Name Gender  Age Sample DNA Strand    Eyesight  \\\n",
      "0                1  John   Male   28        GCATATGCAT  Proficient   \n",
      "1                2   Bob   Male   26        CATGATGTAT  Proficient   \n",
      "2                3  Dave   Male   24        ACTAGCTGTA  Proficient   \n",
      "3                4   Tim   Male   22        TACGTTACGA  Proficient   \n",
      "4                5  Hans   Male   22        ATGCGCTACG  Proficient   \n",
      "\n",
      "   Bone Density  Telomeres Size  Weight in Pounds  Height in Inches  \\\n",
      "0           1.1            5123               167                66   \n",
      "1           1.2            6573               154                68   \n",
      "2           1.0            7654               156                72   \n",
      "3           1.3            5463               159                70   \n",
      "4           1.1            8976               168                69   \n",
      "\n",
      "  Metablomics Cognitive Peformance  \n",
      "0         Low               Normal  \n",
      "1         Low               Normal  \n",
      "2         Low               Normal  \n",
      "3         Low               Normal  \n",
      "4         Low               Normal  \u001b[0m\u001b[32;1m\u001b[1;3mThe rows where excessive radiation exposure is found within the model are as follows:\n",
      "\n",
      "|    |   Pre-Flight-Data | Name   | Gender   |   Age | Sample DNA Strand   | Eyesight   |   Bone Density |   Telomeres Size |   Weight in Pounds |   Height in Inches | Metablomics   | Cognitive Peformance   |\n",
      "|---:|------------------:|:-------|:---------|------:|:--------------------|:-----------|---------------:|-----------------:|-------------------:|-------------------:|:--------------|:-----------------------|\n",
      "|  2 |                 3 | Dave   | Male     |    24 | ACTAGCTGTA          | Proficient |            1   |             7654 |                156 |                 72 | Low           | Normal                 |\n",
      "|  3 |                 4 | Tim    | Male     |    22 | TACGTTACGA          | Proficient |            1.3 |             5463 |                159 |                 70 | Low           | Normal                 |\n",
      "|  4 |                 5 | Hans   | Male     |    22 | ATGCGCTACG          | Proficient |            1.1 |             8976 |                168 |                 69 | Low           | Normal                 |\u001b[0m\n",
      "\n",
      "\u001b[1m> Finished chain.\u001b[0m\n",
      "{'input': 'Please find some forms of excessive radiation exposure within the model. Excessive radiation is found when any column within both spreadhseets is different', 'output': 'The rows where excessive radiation exposure is found within the model are as follows:\\n\\n|    |   Pre-Flight-Data | Name   | Gender   |   Age | Sample DNA Strand   | Eyesight   |   Bone Density |   Telomeres Size |   Weight in Pounds |   Height in Inches | Metablomics   | Cognitive Peformance   |\\n|---:|------------------:|:-------|:---------|------:|:--------------------|:-----------|---------------:|-----------------:|-------------------:|-------------------:|:--------------|:-----------------------|\\n|  2 |                 3 | Dave   | Male     |    24 | ACTAGCTGTA          | Proficient |            1   |             7654 |                156 |                 72 | Low           | Normal                 |\\n|  3 |                 4 | Tim    | Male     |    22 | TACGTTACGA          | Proficient |            1.3 |             5463 |                159 |                 70 | Low           | Normal                 |\\n|  4 |                 5 | Hans   | Male     |    22 | ATGCGCTACG          | Proficient |            1.1 |             8976 |                168 |                 69 | Low           | Normal                 |'}\n"
     ]
    }
   ],
   "source": [
    "agent_type = AgentType.OPENAI_FUNCTIONS\n",
    "llm = ChatOpenAI(model='gpt-3.5-turbo',temperature = 0,openai_api_key=\"sk-proj-5108Jr4GHZtBnt1vaRZYT3BlbkFJ06tEOcJlxoWC3HFkMh9N\")\n",
    "\n",
    "\n",
    "Preflight_Data = pd.read_csv(\"/Users/tharunsevvel/Downloads/Pre Flight NASA Conditions - Sheet1.csv\")\n",
    "Postflight_Data = pd.read_csv(\"/Users/tharunsevvel/Downloads/Post Flight NASA Conditions - Sheet1.csv\")\n",
    "columns = {\n",
    "    \"Pre-Flight-Data\":\"Pre-Flight-Data\",\n",
    "    \"Name\":\"Name\",\n",
    "    \"Gender\":\"Gender\",\n",
    "    \"Age\":\"Age\",\n",
    "    \"Sample DNA Strand\":\"Sample DNA Strand\",\n",
    "    \"Eyesight\":\"Eyesight\",\n",
    "    \"Bone Density\":\"Bone Density\",\n",
    "    \"Telomeres Size\":\"Telomeres Size\",\n",
    "    \"Weight in pounds\":\"Weight in pounds\",\n",
    "    \"Height in Inches\":\"Height in Inches\",\n",
    "    \"Metablomics\":\"Metablomics\",\n",
    "    \"Cognitive Performance\":\"Cognitive Peformance\",\n",
    "\n",
    "}\n",
    "\n",
    "columns2 = {\n",
    "    \"Post-Flight-Data\":\"Post-Flight-Data\",\n",
    "    \"Name\":\"Name\",\n",
    "    \"Gender\":\"Gender\",\n",
    "    \"Age\":\"Age\",\n",
    "    \"Sample DNA Strand\":\"Sample DNA Strand\",\n",
    "    \"Eyesight\":\"Eyesight\",\n",
    "    \"Bone Density\":\"Bone Density\",\n",
    "    \"Telomeres Size\":\"Telomeres Size\",\n",
    "    \"Weight in pounds\":\"Weight in pounds\",\n",
    "    \"Height in Inches\":\"Height in Inches\",\n",
    "    \"Metablomics\":\"Metablomics\",\n",
    "    \"Cognitive Performance\":\"Cognitive Peformance\",\n",
    "\n",
    "}\n",
    "Preflight_Data.rename(columns=columns, inplace=True)\n",
    "Postflight_Data.rename(columns=columns2, inplace=True)\n",
    "list2 = []\n",
    "list2.append(Preflight_Data)\n",
    "list2.append(Postflight_Data)\n",
    "\n",
    "agent = create_pandas_dataframe_agent(llm, list2, verbose=True, handle_parsing_errors=True,agent_type=agent_type)\n",
    "print(agent.invoke(\"Please find some forms of excessive radiation exposure within the model. Excessive radiation is found when any column within both spreadhseets is different\"))"
   ]
  }
 ],
 "metadata": {
  "kernelspec": {
   "display_name": "Python 3.9 (py39_env)",
   "language": "python",
   "name": "py39_env"
  },
  "language_info": {
   "codemirror_mode": {
    "name": "ipython",
    "version": 3
   },
   "file_extension": ".py",
   "mimetype": "text/x-python",
   "name": "python",
   "nbconvert_exporter": "python",
   "pygments_lexer": "ipython3",
   "version": "3.9.19"
  }
 },
 "nbformat": 4,
 "nbformat_minor": 2
}
